{
 "cells": [
  {
   "cell_type": "code",
   "execution_count": 12,
   "id": "3fe370ee",
   "metadata": {},
   "outputs": [],
   "source": [
    "import numpy as np\n",
    "import matplotlib.pyplot as plt\n",
    "import logging\n",
    "import tensorflow as tf\n",
    "from lab_coffee_utils import load_coffee_data, plt_roast, plt_prob, plt_layer, plt_network, plt_output_unit\n",
    "logging.getLogger(\"tensorflow\").setLevel(logging.ERROR)\n",
    "tf.autograph.set_verbosity(0)"
   ]
  },
  {
   "cell_type": "code",
   "execution_count": 13,
   "id": "a6ba83ae",
   "metadata": {},
   "outputs": [
    {
     "name": "stdout",
     "output_type": "stream",
     "text": [
      "(200, 2) (200, 1)\n"
     ]
    }
   ],
   "source": [
    "X,Y = load_coffee_data()\n",
    "print(X.shape,Y.shape)"
   ]
  },
  {
   "cell_type": "code",
   "execution_count": 14,
   "id": "1b987876",
   "metadata": {},
   "outputs": [],
   "source": [
    "norm_l = tf.keras.layers.Normalization(axis=-1)\n",
    "norm_l.adapt(X) # to learn means and variance for the normalization\n",
    "Xn = norm_l(X)"
   ]
  },
  {
   "cell_type": "code",
   "execution_count": 16,
   "id": "239381b7",
   "metadata": {},
   "outputs": [],
   "source": [
    "def sigmoid(x):\n",
    "    return 1 / (1+np.exp(-x))\n",
    "\n",
    "def my_dense(a_in,W,b):\n",
    "    units = W.shape[1]\n",
    "    a_out = np.zeros(units)\n",
    "    for j in range(units):\n",
    "        w = W[:,j]\n",
    "        z = np.dot(w,a_in) + b[j]\n",
    "        a_out[j] = sigmoid(z)\n",
    "    return (a_out)\n",
    "\n",
    "def my_sequential(x,W1,b1,W2,b2):\n",
    "    a1 = my_dense(x,W1,b1)\n",
    "    a2 = my_dense(a1,W2,b2)\n",
    "    return(a2)\n",
    "\n",
    "W1_tmp = np.array([[-8.93,0.29,12.9],[-0.1,-7.32,10.81]])\n",
    "b1_tmp = np.array([-9.82,-9.28,0.96])\n",
    "W2_tmp = np.array([[-31.18], [-27.59], [-32.56]])\n",
    "b2_tmp = np.array([15.41])"
   ]
  },
  {
   "cell_type": "code",
   "execution_count": 17,
   "id": "4bc92764",
   "metadata": {},
   "outputs": [],
   "source": [
    "def my_predict(X,W1,b1,W2,b2):\n",
    "    m = X.shape[0]\n",
    "    p = np.zeros((m,1))\n",
    "    for i in range(m):\n",
    "        p[i,0] = my_sequential(X[i],W1,b1,W2,b2)\n",
    "    return p"
   ]
  },
  {
   "cell_type": "code",
   "execution_count": null,
   "id": "977d94dd",
   "metadata": {},
   "outputs": [
    {
     "name": "stderr",
     "output_type": "stream",
     "text": [
      "/var/folders/yb/vbtzq9693hq7ytp6nmv278d00000gn/T/ipykernel_4321/2133138450.py:5: DeprecationWarning: Conversion of an array with ndim > 0 to a scalar is deprecated, and will error in future. Ensure you extract a single element from your array before performing this operation. (Deprecated NumPy 1.25.)\n",
      "  p[i,0] = my_sequential(X[i],W1,b1,W2,b2)\n"
     ]
    }
   ],
   "source": [
    "X_tst = np.array([[200,13.9],[200,17]])\n",
    "X_tstn = norm_l(X_tst)\n",
    "predictions = my_predict(X_tstn, W1_tmp, b1_tmp, W2_tmp, b2_tmp)"
   ]
  },
  {
   "cell_type": "code",
   "execution_count": null,
   "id": "26a90e98",
   "metadata": {},
   "outputs": [
    {
     "name": "stdout",
     "output_type": "stream",
     "text": [
      "Decisions= \n",
      "[[1.]\n",
      " [0.]]\n"
     ]
    },
    {
     "data": {
      "text/plain": [
       "array([[1.],\n",
       "       [0.]])"
      ]
     },
     "execution_count": 30,
     "metadata": {},
     "output_type": "execute_result"
    }
   ],
   "source": [
    "y_hat = np.zeros_like(predictions)\n",
    "for i in range(len(predictions)):\n",
    "    if predictions[i] >= 0.5:\n",
    "        y_hat[i] = 1\n",
    "    else:\n",
    "        y_hat[i] = 0\n",
    "print(f\"Decisions= \\n{y_hat}\")"
   ]
  }
 ],
 "metadata": {
  "kernelspec": {
   "display_name": "DeepLearningAI_courses",
   "language": "python",
   "name": "python3"
  },
  "language_info": {
   "codemirror_mode": {
    "name": "ipython",
    "version": 3
   },
   "file_extension": ".py",
   "mimetype": "text/x-python",
   "name": "python",
   "nbconvert_exporter": "python",
   "pygments_lexer": "ipython3",
   "version": "3.13.5"
  }
 },
 "nbformat": 4,
 "nbformat_minor": 5
}
