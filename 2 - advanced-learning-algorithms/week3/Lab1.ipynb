{
 "cells": [
  {
   "cell_type": "code",
   "execution_count": null,
   "id": "356d4b93",
   "metadata": {},
   "outputs": [],
   "source": [
    "from sklearn.linear_model import LinearRegression, Ridge \n",
    "import matplotlib.pyplot as plt\n",
    "import numpy as np\n",
    "import utils"
   ]
  },
  {
   "cell_type": "code",
   "execution_count": null,
   "id": "6afb57ec",
   "metadata": {},
   "outputs": [],
   "source": [
    "x_train , y_train"
   ]
  },
  {
   "cell_type": "code",
   "execution_count": null,
   "id": "9e323fea",
   "metadata": {},
   "outputs": [],
   "source": []
  },
  {
   "cell_type": "code",
   "execution_count": null,
   "id": "d44788a4",
   "metadata": {},
   "outputs": [],
   "source": []
  }
 ],
 "metadata": {
  "language_info": {
   "name": "python"
  }
 },
 "nbformat": 4,
 "nbformat_minor": 5
}
