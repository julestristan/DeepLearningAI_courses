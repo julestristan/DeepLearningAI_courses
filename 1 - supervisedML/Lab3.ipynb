{
 "cells": [
  {
   "cell_type": "code",
   "execution_count": null,
   "id": "f25fce52",
   "metadata": {},
   "outputs": [],
   "source": [
    "import numpy as np\n",
    "import matplotlib.pyplot as plt\n",
    "\n",
    "x_train = np.array([1.0,2.0])\n",
    "y_train = np.array([300.0,500.0])"
   ]
  },
  {
   "cell_type": "code",
   "execution_count": null,
   "id": "1981cdb2",
   "metadata": {},
   "outputs": [],
   "source": [
    "# A basic cost function\n",
    "def compute_cost(x,y,w,b):\n",
    "    m=x.shape[0]\n",
    "    cost_sum = 0\n",
    "    for i in range(m):\n",
    "        f_wb = w * x[i] + b\n",
    "        cost = (f_wb** - y[i])**2\n",
    "        cost_sum = cost_sum + cost\n",
    "    total_cost = (1/(2*m)) * cost_sum\n",
    "    return total_cost"
   ]
  }
 ],
 "metadata": {
  "language_info": {
   "name": "python"
  }
 },
 "nbformat": 4,
 "nbformat_minor": 5
}
