{
 "cells": [
  {
   "cell_type": "code",
   "execution_count": 1,
   "id": "88a28fb1",
   "metadata": {},
   "outputs": [
    {
     "name": "stdout",
     "output_type": "stream",
     "text": [
      "np.zeros(4) :   a = [0. 0. 0. 0.], a shape = (4,), a data type = float64\n",
      "np.zeros((4,)) :   a = [0. 0. 0. 0.], a shape = (4,), a data type = float64\n",
      "np.random.random_sample(4) :   a = [0.8546419  0.40316838 0.56828221 0.99704744], a shape = (4,), a data type = float64\n"
     ]
    }
   ],
   "source": [
    "import numpy as np\n",
    "import time\n",
    "\n",
    "a = np.zeros(4); print(f\"np.zeros(4) :   a = {a}, a shape = {a.shape}, a data type = {a.dtype}\")\n",
    "a = np.zeros((4,)); print(f\"np.zeros((4,)) :   a = {a}, a shape = {a.shape}, a data type = {a.dtype}\")\n",
    "a = np.random.random_sample(4); print(f\"np.random.random_sample(4) :   a = {a}, a shape = {a.shape}, a data type = {a.dtype}\")\n"
   ]
  },
  {
   "cell_type": "code",
   "execution_count": null,
   "id": "3f095eec",
   "metadata": {},
   "outputs": [
    {
     "name": "stdout",
     "output_type": "stream",
     "text": [
      "[0 1 2 3 4 5 6 7 8 9]\n",
      "a[2] shape: ()   ;a[2] = 2\n",
      "c values : [2 3 4 5 6]\n",
      "d : [3 4 5 6 7 8 9]\n",
      "e : [0 1 2]\n",
      "f : [0 1 2 3 4 5 6 7 8 9]\n"
     ]
    }
   ],
   "source": [
    "a = np.arange(10)\n",
    "print(a)\n",
    "print(f\"a[2] shape: {a[2].shape}   ;a[2] = {a[2]}\")\n",
    "\n",
    "c = a[2:7:1]\n",
    "print(f\"c values : {c}\") # all elements between 2 and 7 with a 1-step increase\n",
    "d = a[3:]\n",
    "print(f\"d : {d}\") # all elements from a certain index\n",
    "e = a[:3]\n",
    "print(f\"e : {e}\") # all elements up to a certain index\n",
    "f = a[:]\n",
    "print(f\"f : {f}\") # all elements"
   ]
  },
  {
   "cell_type": "code",
   "execution_count": null,
   "id": "ebced52c",
   "metadata": {},
   "outputs": [
    {
     "name": "stdout",
     "output_type": "stream",
     "text": [
      "array : [1 2 3 4]\n",
      "array_2 : [-1 -2 -3 -4]\n",
      "array_3 : 10\n",
      "array_4 : 2.5\n",
      "array_5 : [ 1  4  9 16]\n"
     ]
    }
   ],
   "source": [
    "array = np.array([1,2,3,4])\n",
    "print(f\"array : {array}\")\n",
    "\n",
    "array_2 = - array\n",
    "print(f\"array_2 : {array_2}\")\n",
    "\n",
    "array_3 = np.sum(array)\n",
    "print(f\"array_3 : {array_3}\")\n",
    "\n",
    "array_4 = np.mean(array)\n",
    "print(f\"array_4 : {array_4}\")\n",
    "\n",
    "array_5 = array**2\n",
    "print(f\"array_5 : {array_5}\")"
   ]
  },
  {
   "cell_type": "code",
   "execution_count": null,
   "id": "f6c27217",
   "metadata": {},
   "outputs": [
    {
     "name": "stdout",
     "output_type": "stream",
     "text": [
      "49\n"
     ]
    }
   ],
   "source": [
    "# Dot product\n",
    "\n",
    "a = np.array([1,4,9])\n",
    "b = np.array([9,1,4])\n",
    "\n",
    "c = np.dot(b,a)\n",
    "print(c)"
   ]
  },
  {
   "cell_type": "code",
   "execution_count": 23,
   "id": "10cf3f9b",
   "metadata": {},
   "outputs": [
    {
     "name": "stdout",
     "output_type": "stream",
     "text": [
      "matrice : [0. 0. 0. 0. 0. 0. 0. 0. 0. 0. 0. 0. 0. 0. 0. 0. 0. 0. 0. 0.]\n",
      "matrice avec 4 lignes : [[0. 0. 0. 0. 0.]\n",
      " [0. 0. 0. 0. 0.]\n",
      " [0. 0. 0. 0. 0.]\n",
      " [0. 0. 0. 0. 0.]]\n"
     ]
    }
   ],
   "source": [
    "matrice = np.zeros(20)\n",
    "print(f\"matrice : {matrice}\")\n",
    "matrice_4l_5c = matrice.reshape(4,-1)\n",
    "print(f\"matrice avec 4 lignes : {matrice_4l_5c}\")"
   ]
  },
  {
   "cell_type": "code",
   "execution_count": null,
   "id": "f9356a46",
   "metadata": {},
   "outputs": [],
   "source": [
    "    "
   ]
  }
 ],
 "metadata": {
  "kernelspec": {
   "display_name": "DeepLearningAI_courses",
   "language": "python",
   "name": "python3"
  },
  "language_info": {
   "codemirror_mode": {
    "name": "ipython",
    "version": 3
   },
   "file_extension": ".py",
   "mimetype": "text/x-python",
   "name": "python",
   "nbconvert_exporter": "python",
   "pygments_lexer": "ipython3",
   "version": "3.13.5"
  }
 },
 "nbformat": 4,
 "nbformat_minor": 5
}
