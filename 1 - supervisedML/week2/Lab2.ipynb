{
 "cells": [
  {
   "cell_type": "code",
   "execution_count": 2,
   "id": "b6101420",
   "metadata": {},
   "outputs": [],
   "source": [
    "# Libraries used\n",
    "import copy, math\n",
    "import numpy as np\n",
    "import matplotlib.pyplot as plt\n",
    "np.set_printoptions(precision=2)"
   ]
  },
  {
   "cell_type": "code",
   "execution_count": 13,
   "id": "105aa694",
   "metadata": {},
   "outputs": [
    {
     "name": "stdout",
     "output_type": "stream",
     "text": [
      "X_train values : [2104    5    1   45]\n",
      "X_train values : [1416    3    2   40]\n",
      "X_train values : [852   2   1  35]\n",
      "(3,)\n"
     ]
    }
   ],
   "source": [
    "X_train = np.array([[2104,5,1,45],[1416,3,2,40],[852,2,1,35]])\n",
    "y_train = np.array([460,232,178])\n",
    "\n",
    "for i in range(len(X_train)):\n",
    "    print(f\"X_train values : {X_train[i]}\")\n",
    "\n",
    "print(y_train.shape)"
   ]
  },
  {
   "cell_type": "code",
   "execution_count": 17,
   "id": "305879a3",
   "metadata": {},
   "outputs": [
    {
     "name": "stdout",
     "output_type": "stream",
     "text": [
      "w init shape: (4,), b init type:<class 'float'>\n"
     ]
    }
   ],
   "source": [
    "b_init = 785.1811367994083\n",
    "w_init = np.array([0.39133535,18.75376741,-53.36032453,-26.42131618])\n",
    "print(f\"w init shape: {w_init.shape}, b init type:{type(b_init)}\")"
   ]
  },
  {
   "cell_type": "code",
   "execution_count": 19,
   "id": "baa7dfb5",
   "metadata": {},
   "outputs": [
    {
     "name": "stdout",
     "output_type": "stream",
     "text": [
      "x_vec shape : (4,) , x_vec value: [2104    5    1   45]\n",
      "f_wb shape: (), f_wb value: 459.9999976194083\n"
     ]
    }
   ],
   "source": [
    "def predict_single_loop(x,w,b):\n",
    "    n = x.shape[0]\n",
    "    p = 0\n",
    "    for i in range(n):\n",
    "        p_i = x[i] * w[i]\n",
    "        p = p + p_i\n",
    "    p = p + b\n",
    "    return p\n",
    "\n",
    "x_vec = X_train [0,:]\n",
    "print(f\"x_vec shape : {x_vec.shape} , x_vec value: {x_vec}\")\n",
    "\n",
    "f_wb = predict_single_loop(x_vec,w_init,b_init)\n",
    "print(f\"f_wb shape: {f_wb.shape}, f_wb value: {f_wb}\")"
   ]
  },
  {
   "cell_type": "code",
   "execution_count": 20,
   "id": "eb2a0b37",
   "metadata": {},
   "outputs": [
    {
     "name": "stdout",
     "output_type": "stream",
     "text": [
      "459.9999976194083\n"
     ]
    }
   ],
   "source": [
    "def predict(x,w,b):\n",
    "    p = np.dot(x,w) + b\n",
    "    return p\n",
    "\n",
    "print(predict(x_vec, w_init, b_init))"
   ]
  },
  {
   "cell_type": "code",
   "execution_count": null,
   "id": "8d43493a",
   "metadata": {},
   "outputs": [
    {
     "name": "stdout",
     "output_type": "stream",
     "text": [
      "3\n",
      "(3, 4)\n",
      "Cost at optimal w : 1.5578904045996674e-12\n"
     ]
    }
   ],
   "source": [
    "def compute_cost(X,y,w,b):\n",
    "    m = X.shape[0]\n",
    "    cost = 0.0\n",
    "    for i in range(m):\n",
    "        f_wb_i = np.dot(X[i],w)+b\n",
    "        cost = cost + (f_wb_i - y[i])**2\n",
    "    cost = cost / (2*m)\n",
    "    return cost\n",
    "\n",
    "cost = compute_cost(X_train,y_train,w_init,b_init)\n",
    "print(f\"Cost at optimal w : {cost}\")"
   ]
  },
  {
   "cell_type": "code",
   "execution_count": 39,
   "id": "211e76ee",
   "metadata": {},
   "outputs": [
    {
     "name": "stdout",
     "output_type": "stream",
     "text": [
      "dj_db at initial w,b: -1.6739251122999121e-06, dj_dw at initial w,b: [-2.73e-03 -6.27e-06 -2.22e-06 -6.92e-05]\n"
     ]
    }
   ],
   "source": [
    "def compute_gradient(X,y,w,b):\n",
    "    m,n = X.shape\n",
    "    dj_dw = np.zeros((n,))\n",
    "    dj_db = 0.0\n",
    "\n",
    "    for i in range(m):\n",
    "        err = (np.dot(X[i],w) +b) - y[i]\n",
    "        for j in range(n):\n",
    "            dj_dw[j] = dj_dw[j] + err * X[i,j]\n",
    "        dj_db = dj_db + err\n",
    "    dj_dw = dj_dw / m\n",
    "    dj_db = dj_db / m\n",
    "\n",
    "    return dj_db, dj_dw\n",
    "\n",
    "tmp_dj_db,tmp_dj_dw = compute_gradient(X_train,y_train,w_init,b_init)\n",
    "print(f\"dj_db at initial w,b: {tmp_dj_db}, dj_dw at initial w,b: {tmp_dj_dw}\")"
   ]
  },
  {
   "cell_type": "code",
   "execution_count": null,
   "id": "2070d322",
   "metadata": {},
   "outputs": [],
   "source": [
    "# finish gradient descent + graphsketch"
   ]
  }
 ],
 "metadata": {
  "kernelspec": {
   "display_name": "DeepLearningAI_courses",
   "language": "python",
   "name": "python3"
  },
  "language_info": {
   "codemirror_mode": {
    "name": "ipython",
    "version": 3
   },
   "file_extension": ".py",
   "mimetype": "text/x-python",
   "name": "python",
   "nbconvert_exporter": "python",
   "pygments_lexer": "ipython3",
   "version": "3.13.5"
  }
 },
 "nbformat": 4,
 "nbformat_minor": 5
}
